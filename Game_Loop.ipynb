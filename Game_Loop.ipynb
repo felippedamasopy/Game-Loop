{
  "nbformat": 4,
  "nbformat_minor": 0,
  "metadata": {
    "colab": {
      "provenance": [],
      "authorship_tag": "ABX9TyPB8F/RaM6LRJXD96SnOw+y",
      "include_colab_link": true
    },
    "kernelspec": {
      "name": "python3",
      "display_name": "Python 3"
    },
    "language_info": {
      "name": "python"
    }
  },
  "cells": [
    {
      "cell_type": "markdown",
      "metadata": {
        "id": "view-in-github",
        "colab_type": "text"
      },
      "source": [
        "<a href=\"https://colab.research.google.com/github/felippedamasopy/Game-Loop/blob/main/Game_Loop.ipynb\" target=\"_parent\"><img src=\"https://colab.research.google.com/assets/colab-badge.svg\" alt=\"Open In Colab\"/></a>"
      ]
    },
    {
      "cell_type": "code",
      "source": [
        "def jogar():\n",
        "    print(\"*********************************\")\n",
        "    print(\"***Bem vindo ao jogo da Forca!***\")\n",
        "    print(\"*********************************\")\n",
        "\n",
        "    palavra_secreta = \"maça\".upper()\n",
        "    letras_acertadas = [\"_\", \"_\", \"_\", \"_\"]\n",
        "\n",
        "\n",
        "    erros = 0\n",
        "    print(len(palavra_secreta))\n",
        "    print(letras_acertadas)\n",
        "\n",
        "    while(True):\n",
        "\n",
        "        chute = input(\"Qual letra? \")\n",
        "        chute = chute.strip().upper()\n",
        "\n",
        "        if(chute in palavra_secreta):\n",
        "            index = 0\n",
        "            for letra in palavra_secreta:\n",
        "                if(chute == letra):\n",
        "                    letras_acertadas[index] = letra\n",
        "                index += 1\n",
        "        else:\n",
        "            erros += 1\n",
        "\n",
        "        if (erros == 6):\n",
        "            break\n",
        "        if (\"_\" not in letras_acertadas):\n",
        "            break\n",
        "        print(letras_acertadas)\n",
        "\n",
        "\n",
        "    if(\"_\" not in letras_acertadas):\n",
        "        print(\"Você ganhou!!\")\n",
        "    else:\n",
        "        print(\"Você perdeu!!\")\n",
        "    print(\"Fim do jogo\")"
      ],
      "metadata": {
        "id": "UxK9KyAK81G-"
      },
      "execution_count": null,
      "outputs": []
    },
    {
      "cell_type": "code",
      "source": [
        "jogar()\n"
      ],
      "metadata": {
        "colab": {
          "base_uri": "https://localhost:8080/"
        },
        "id": "odpox6Gz84NH",
        "outputId": "f40e710c-4fa1-4e47-e0f6-536224eb510c"
      },
      "execution_count": null,
      "outputs": [
        {
          "output_type": "stream",
          "name": "stdout",
          "text": [
            "*********************************\n",
            "***Bem vindo ao jogo da Forca!***\n",
            "*********************************\n",
            "4\n",
            "['_', '_', '_', '_']\n",
            "Qual letra? m\n",
            "['M', '_', '_', '_']\n",
            "Qual letra? a\n",
            "['M', 'A', '_', 'A']\n",
            "Qual letra? c\n",
            "['M', 'A', '_', 'A']\n",
            "Qual letra? Ç\n",
            "Você ganhou!!\n",
            "Fim do jogo\n"
          ]
        }
      ]
    },
    {
      "cell_type": "code",
      "source": [],
      "metadata": {
        "id": "guwy2f3U847g"
      },
      "execution_count": null,
      "outputs": []
    }
  ]
}